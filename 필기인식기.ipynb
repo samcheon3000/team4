{
 "cells": [
  {
   "cell_type": "code",
   "execution_count": 189,
   "metadata": {},
   "outputs": [],
   "source": [
    "import numpy\n",
    "# 시그모이드 함수 expit() 을 사용하기 위한 scipy.special 임포트\n",
    "import scipy.special\n",
    "import matplotlib.pyplot\n",
    "\n",
    "# 신경망 클래스 정의\n",
    "class neuralNetwork:\n",
    "\n",
    "    # 신경망 초기화 함수\n",
    "    def __init__(self, inputnodes, hiddennodes, outputnodes, learningrate):\n",
    "        # 신경망 초기화에 필요한 각 변수 설정\n",
    "        self.inodes = inputnodes\n",
    "        self.hnodes = hiddennodes\n",
    "        self.onodes = outputnodes\n",
    "\n",
    "        # 노드 i 외 다음 층의 노드 j 를 연결하는 가중치 w_i_j\n",
    "        self.wih = numpy.random.normal(0.0, pow(self.inodes, -0.5), (self.hnodes, self.inodes))\n",
    "        self.who = numpy.random.normal(0.0, pow(self.hnodes, -0.5), (self.onodes, self.hnodes))\n",
    "\n",
    "        # 학습률 설정\n",
    "        self.lr = learningrate     \n",
    "\n",
    "        # 활성화 함수는 시그모이드 함수 사용\n",
    "        self.activation_function = lambda x : scipy.special.expit(x)\n",
    "\n",
    "        pass\n",
    "    \n",
    "    # 신경망 훈련 함수\n",
    "    def train(self, inputs_list, targets_list):\n",
    "        # 리스트를 2차원 행렬로 변환\n",
    "        inputs = numpy.array(inputs_list, ndmin=2).T\n",
    "        targets = numpy.array(targets_list, ndmin=2).T\n",
    "\n",
    "        # 은닉층 입력값 = 가중치(wih)와 입력값의 행렬곱\n",
    "        hidden_inputs = numpy.dot(self.wih, inputs)\n",
    "        # 은닉층으로부터 나오는 신호 계산\n",
    "        hidden_outputs = self.activation_function(hidden_inputs)\n",
    "\n",
    "        # 출력층 입력값 = 가중치(who)와 hidden_output 의 행렬곱\n",
    "        final_inputs = numpy.dot(self.who, hidden_outputs)\n",
    "        # 출력층으로부터 나오는 신호 계산\n",
    "        final_outputs = self.activation_function(final_inputs)\n",
    "\n",
    "        # 최종 오차 = 최종 결과 - 정답(target)\n",
    "        output_errors = targets - final_outputs\n",
    "\n",
    "        # 은닉층 오차 = 최종 오차 * 가중치\n",
    "        hidden_errors = numpy.dot(self.who.T, output_errors)\n",
    "\n",
    "        # 은닉층과 출력층 사이 가중치 오차 역전파 코드\n",
    "        self.who += self.lr * numpy.dot((output_errors * final_outputs * (1.0 - final_outputs)), numpy.transpose(hidden_outputs))\n",
    "\n",
    "        # 입력층과 은닉층 사이 가중치 오차 역전파 코드\n",
    "        self.wih += self.lr * numpy.dot((hidden_errors * hidden_outputs * (1.0 - hidden_outputs)), numpy.transpose(inputs))\n",
    "        pass\n",
    "    \n",
    "    # 신경망 질문 함수\n",
    "    def query(self, inputs_list):\n",
    "\n",
    "        # 리스트를 2차원 행렬로 변환\n",
    "        inputs = numpy.array(inputs_list, ndmin=2).T \n",
    "\n",
    "        # 은닉층 입력값 = 가중치(wih)와 입력값의 행렬곱\n",
    "        hidden_inputs = numpy.dot(self.wih, inputs)\n",
    "        # 은닉층으로부터 나오는 신호 계산\n",
    "        hidden_outputs = self.activation_function(hidden_inputs)\n",
    "\n",
    "        # 출력층 입력값 = 가중치(who)와 hidden_output 의 행렬곱\n",
    "        final_inputs = numpy.dot(self.who, hidden_outputs)\n",
    "        # 출력층으로부터 나오는 신호 계산\n",
    "        final_outputs = self.activation_function(final_inputs)\n",
    "\n",
    "        return final_outputs\n",
    "        pass"
   ]
  },
  {
   "cell_type": "code",
   "execution_count": 190,
   "metadata": {
    "scrolled": true
   },
   "outputs": [
    {
     "data": {
      "text/plain": [
       "<matplotlib.image.AxesImage at 0x2ca2dd63d08>"
      ]
     },
     "execution_count": 190,
     "metadata": {},
     "output_type": "execute_result"
    },
    {
     "data": {
      "image/png": "[encoded data removed]",
      "text/plain": [
       "<Figure size 432x288 with 1 Axes>"
      ]
     },
     "metadata": {
      "needs_background": "light"
     },
     "output_type": "display_data"
    }
   ],
   "source": [
    "# 입력, 은닉, 출력 노드 수 설정\n",
    "input_nodes = 784\n",
    "hidden_nodes = 234\n",
    "output_nodes = 10\n",
    "\n",
    "# 학습률 값 설정\n",
    "learning_rate = 0.54\n",
    "\n",
    "# 신경망 인스턴스 설정\n",
    "n = neuralNetwork(input_nodes, hidden_nodes, output_nodes, learning_rate)\n",
    "\n",
    "# 훈련 데이터 불러오기 & 리스트화\n",
    "training_data_file = open(\"C:/Users/anaconda/python/club/m_train.csv\", 'r')\n",
    "training_data_list = training_data_file.readlines()\n",
    "training_data_file.close()\n",
    "\n",
    "all_values = training_data_list[9].split(',')\n",
    "image_array = numpy.asfarray(all_values[1:]).reshape((28,28))\n",
    "matplotlib.pyplot.imshow(image_array, cmap = \"Greys\", interpolation = \"None\")"
   ]
  },
  {
   "cell_type": "code",
   "execution_count": 191,
   "metadata": {},
   "outputs": [],
   "source": [
    "# 신경망 훈련\n",
    "\n",
    "# 훈련 데이터셋을 모두 인식하기\n",
    "for record in training_data_list:\n",
    "    # ',' 을 기준으로 각 레코드를 쪼개기\n",
    "    all_values = record.split(',')\n",
    "    # 입력값을 0.1 ~ 1.0 사이에 위치하도록 변환\n",
    "    inputs = (numpy.asfarray(all_values[1:]) / 255.0 * 0.99) + 0.01\n",
    "    # 목표 출력값 설정\n",
    "    targets = numpy.zeros(output_nodes) + 0.01\n",
    "    # 정답(각 입력 리스트의 0번째 값) 과 출력값 비교\n",
    "    targets[int(all_values[0])] = 0.99\n",
    "    n.train(inputs, targets)\n",
    "    pass"
   ]
  },
  {
   "cell_type": "code",
   "execution_count": 192,
   "metadata": {},
   "outputs": [],
   "source": [
    "# 테스트 데이터 불러오기 & 리스트화\n",
    "test_data_file = open(\"C:/Users/anaconda/python/club/m_test.csv\", 'r')\n",
    "test_data_list = test_data_file.readlines()\n",
    "test_data_file.close()"
   ]
  },
  {
   "cell_type": "code",
   "execution_count": 193,
   "metadata": {},
   "outputs": [
    {
     "name": "stdout",
     "output_type": "stream",
     "text": [
      "7\n"
     ]
    }
   ],
   "source": [
    "all_values = test_data_list[0].split(',')\n",
    "print(all_values[0])"
   ]
  },
  {
   "cell_type": "code",
   "execution_count": 194,
   "metadata": {},
   "outputs": [],
   "source": [
    "# test the neural network\n",
    "\n",
    "# scorecard for how well the network performs, initially empty\n",
    "scorecard = []\n",
    "\n",
    "# go through all the records in the test data set\n",
    "for record in test_data_list:\n",
    "    # split the record by the ',' commas\n",
    "    all_values = record.split(',')\n",
    "    # correct answer is first value\n",
    "    correct_label = int(all_values[0])\n",
    "    # scale and shift the inputs\n",
    "    inputs = (numpy.asfarray(all_values[1:]) / 255.0 * 0.99) + 0.01\n",
    "    # query the network\n",
    "    outputs = n.query(inputs)\n",
    "    # the index of the highest value corresponds to the label\n",
    "    label = numpy.argmax(outputs)\n",
    "    # append correct or incorrect to list\n",
    "    if (label == correct_label):\n",
    "        # network's answer matches correct answer, add 1 to scorecard\n",
    "        scorecard.append(1)\n",
    "    else:\n",
    "        # network's answer doesn't match correct answer, add 0 to scorecard\n",
    "        scorecard.append(0)\n",
    "        pass\n",
    "    \n",
    "    pass"
   ]
  },
  {
   "cell_type": "code",
   "execution_count": 195,
   "metadata": {},
   "outputs": [
    {
     "name": "stdout",
     "output_type": "stream",
     "text": [
      "performance =  0.9395\n"
     ]
    }
   ],
   "source": [
    "# calculate the performance score, the fraction of correct answers\n",
    "scorecard_array = numpy.asarray(scorecard)\n",
    "print (\"performance = \", scorecard_array.sum() / scorecard_array.size)"
   ]
  }
 ],
 "metadata": {
  "kernelspec": {
   "display_name": "Python 3",
   "language": "python",
   "name": "python3"
  },
  "language_info": {
   "codemirror_mode": {
    "name": "ipython",
    "version": 3
   },
   "file_extension": ".py",
   "mimetype": "text/x-python",
   "name": "python",
   "nbconvert_exporter": "python",
   "pygments_lexer": "ipython3",
   "version": "3.7.6"
  }
 },
 "nbformat": 4,
 "nbformat_minor": 4
}
